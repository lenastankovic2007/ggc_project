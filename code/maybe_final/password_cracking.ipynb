{
 "cells": [
  {
   "cell_type": "code",
   "execution_count": null,
   "id": "7dfefb1d",
   "metadata": {},
   "outputs": [
    {
     "name": "stdout",
     "output_type": "stream",
     "text": [
      "🧠 Password Cracking Simulation\n",
      "Target: Sara\n",
      "Hint: Loves strawberries, graduated in 2017, lives in Serbia\n",
      "Password rule: Password length is between 8 and 20, and has numbers and letters\n",
      "Attempt 1/3 – Guess the password: ✅ Access Granted! You guessed the password!\n"
     ]
    }
   ],
   "source": [
    "import sys\n",
    "\n",
    "print(\"🧠 Password Cracking Simulation\", flush=True)\n",
    "print(\"Target: Susannah\\nHint: Loves strawberries, graduated in 2017, lives in Serbia, nickname Susie\", flush=True)\n",
    "print(\"Password rule: Password length is between 8 and 20, and has numbers and letters\")\n",
    "\n",
    "valid_passwords = [\"strawberry2017\", \"jagoda2017\", \"strawberry17\", \"jagoda17\", \"jagoda_17\", \"susannah17\", \"susie17\", \"susie2017\", \"susannah2017\", \"2017susannah\", \"2017susie\", \n",
    "                   \"17susie\", \"17susannah\", \"serbia2017\", \"serbia17\", \"strawberry17\", \"susiestrawberry\", \"jagodica17\", \"jagodicabobica\", \"strawberry017\", \"jagoda017\", \n",
    "                   \"jagoda_017\", \"serbia017\", \"susie017\", \"susannah017\", \"jagodica017\"]\n",
    "\n",
    "for attempt in range(3):\n",
    "    print(f\"Attempt {attempt + 1}/3 – Guess the password: \", end='', flush=True)\n",
    "    guess = input().strip()\n",
    "    if guess in valid_passwords:\n",
    "        print(\"✅ Access Granted! You guessed the password!\", flush=True)\n",
    "        break\n",
    "    else:\n",
    "        print(\"❌ Access Denied.\", flush=True)\n",
    "else:\n",
    "    print(\"🔒 Too many failed attempts. The system is locked.\", flush=True)\n",
    "    \n"
   ]
  }
 ],
 "metadata": {
  "kernelspec": {
   "display_name": "Python 3",
   "language": "python",
   "name": "python3"
  },
  "language_info": {
   "codemirror_mode": {
    "name": "ipython",
    "version": 3
   },
   "file_extension": ".py",
   "mimetype": "text/x-python",
   "name": "python",
   "nbconvert_exporter": "python",
   "pygments_lexer": "ipython3",
   "version": "3.12.4"
  }
 },
 "nbformat": 4,
 "nbformat_minor": 5
}
