{
 "cells": [
  {
   "cell_type": "code",
   "execution_count": 1,
   "id": "c50629bf",
   "metadata": {},
   "outputs": [
    {
     "name": "stdout",
     "output_type": "stream",
     "text": [
      "Collecting zxcvbn\n",
      "  Downloading zxcvbn-4.5.0-py2.py3-none-any.whl.metadata (5.9 kB)\n",
      "Downloading zxcvbn-4.5.0-py2.py3-none-any.whl (409 kB)\n",
      "Installing collected packages: zxcvbn\n",
      "Successfully installed zxcvbn-4.5.0\n",
      "Note: you may need to restart the kernel to use updated packages.\n"
     ]
    },
    {
     "name": "stderr",
     "output_type": "stream",
     "text": [
      "\n",
      "[notice] A new release of pip is available: 24.3.1 -> 25.1.1\n",
      "[notice] To update, run: python.exe -m pip install --upgrade pip\n"
     ]
    }
   ],
   "source": [
    "pip install zxcvbn"
   ]
  },
  {
   "cell_type": "code",
   "execution_count": 19,
   "id": "1824cef4",
   "metadata": {},
   "outputs": [
    {
     "name": "stdout",
     "output_type": "stream",
     "text": [
      "Score: 1 / 4\n",
      "Warnings: Common names and surnames are easy to guess.\n",
      "Suggestions: ['Add another word or two. Uncommon words are better.']\n",
      "Cracks estimated: {'online_throttling_100_per_hour': '2 months', 'online_no_throttling_10_per_second': '4 hours', 'offline_slow_hashing_1e4_per_second': '16 seconds', 'offline_fast_hashing_1e10_per_second': 'less than a second'}\n"
     ]
    }
   ],
   "source": [
    "from zxcvbn import zxcvbn # We use an open source tool to evaluate password strength\n",
    "\n",
    "password = input(\"Write down the password you want to check\") # Input the password you want to evaluate\n",
    "result = zxcvbn(password)\n",
    "\n",
    "print(f\"Score: {result['score']} / 4\")  # Score ranges from 0 (weakest password) to 4 (strongest password)      \n",
    "print(f\"Warnings: {result['feedback']['warning']}\") # Warnings about the password\n",
    "print(f\"Suggestions: {result['feedback']['suggestions']}\") # Suggestions to improve your password      \n",
    "print(f\"Cracks estimated: {result['crack_times_display']}\") # Estimated time to crack the password"
   ]
  }
 ],
 "metadata": {
  "kernelspec": {
   "display_name": "Python 3",
   "language": "python",
   "name": "python3"
  },
  "language_info": {
   "codemirror_mode": {
    "name": "ipython",
    "version": 3
   },
   "file_extension": ".py",
   "mimetype": "text/x-python",
   "name": "python",
   "nbconvert_exporter": "python",
   "pygments_lexer": "ipython3",
   "version": "3.12.4"
  }
 },
 "nbformat": 4,
 "nbformat_minor": 5
}
