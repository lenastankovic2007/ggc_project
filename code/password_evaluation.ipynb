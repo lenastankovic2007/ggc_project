{
 "cells": [
  {
   "cell_type": "code",
   "execution_count": 1,
   "id": "c50629bf",
   "metadata": {},
   "outputs": [
    {
     "name": "stdout",
     "output_type": "stream",
     "text": [
      "Collecting zxcvbn\n",
      "  Downloading zxcvbn-4.5.0-py2.py3-none-any.whl.metadata (5.9 kB)\n",
      "Downloading zxcvbn-4.5.0-py2.py3-none-any.whl (409 kB)\n",
      "Installing collected packages: zxcvbn\n",
      "Successfully installed zxcvbn-4.5.0\n",
      "Note: you may need to restart the kernel to use updated packages.\n"
     ]
    },
    {
     "name": "stderr",
     "output_type": "stream",
     "text": [
      "\n",
      "[notice] A new release of pip is available: 24.3.1 -> 25.1.1\n",
      "[notice] To update, run: python.exe -m pip install --upgrade pip\n"
     ]
    }
   ],
   "source": [
    "pip install zxcvbn"
   ]
  },
  {
   "cell_type": "code",
   "execution_count": null,
   "id": "1824cef4",
   "metadata": {},
   "outputs": [],
   "source": [
    "from zxcvbn import zxcvbn # We use an open source tool to evaluate password strength\n",
    "\n",
    "password = input(\"Write down the password you want to check\") # Input the password you want to evaluate\n",
    "result = zxcvbn(password)\n",
    "\n",
    "print(f\"Score: {result['score']} / 4\")  # Score ranges from 0 (weakest password) to 4 (strongest password)      \n",
    "print(f\"Warnings: {result['feedback']['warning']}\") # Warnings about the password\n",
    "print(f\"Suggestions: {result['feedback']['suggestions']}\") # Suggestions to improve your password      \n",
    "print(f\"Cracks estimated: {result['crack_times_display']}\") # Estimated time to crack the password"
   ]
  }
 ],
 "metadata": {
  "kernelspec": {
   "display_name": "Python 3",
   "language": "python",
   "name": "python3"
  },
  "language_info": {
   "codemirror_mode": {
    "name": "ipython",
    "version": 3
   },
   "file_extension": ".py",
   "mimetype": "text/x-python",
   "name": "python",
   "nbconvert_exporter": "python",
   "pygments_lexer": "ipython3",
   "version": "3.12.4"
  }
 },
 "nbformat": 4,
 "nbformat_minor": 5
}
